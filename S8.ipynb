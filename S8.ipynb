{
  "nbformat": 4,
  "nbformat_minor": 0,
  "metadata": {
    "colab": {
      "name": "S8.ipynb",
      "provenance": [],
      "mount_file_id": "1ptveq1i9xZB8-5Hzoffg3gP3CwLCVzSZ",
      "authorship_tag": "ABX9TyPAuNvbGyxA0tsYu/fKsCcu",
      "include_colab_link": true
    },
    "kernelspec": {
      "name": "python3",
      "display_name": "Python 3"
    },
    "accelerator": "GPU"
  },
  "cells": [
    {
      "cell_type": "markdown",
      "metadata": {
        "id": "view-in-github",
        "colab_type": "text"
      },
      "source": [
        "<a href=\"https://colab.research.google.com/github/shubhamk16/Deep_learning/blob/master/S8.ipynb\" target=\"_parent\"><img src=\"https://colab.research.google.com/assets/colab-badge.svg\" alt=\"Open In Colab\"/></a>"
      ]
    },
    {
      "cell_type": "code",
      "metadata": {
        "id": "PD2RYWS_yNkO",
        "colab_type": "code",
        "outputId": "1cfbe5d6-df13-48c4-b9ea-dc5bb2fac52a",
        "colab": {
          "base_uri": "https://localhost:8080/",
          "height": 121
        }
      },
      "source": [
        "from google.colab import drive\n",
        "drive.mount('/content/gdrive')"
      ],
      "execution_count": 1,
      "outputs": [
        {
          "output_type": "stream",
          "text": [
            "Go to this URL in a browser: https://accounts.google.com/o/oauth2/auth?client_id=947318989803-6bn6qk8qdgf4n4g3pfee6491hc0brc4i.apps.googleusercontent.com&redirect_uri=urn%3aietf%3awg%3aoauth%3a2.0%3aoob&response_type=code&scope=email%20https%3a%2f%2fwww.googleapis.com%2fauth%2fdocs.test%20https%3a%2f%2fwww.googleapis.com%2fauth%2fdrive%20https%3a%2f%2fwww.googleapis.com%2fauth%2fdrive.photos.readonly%20https%3a%2f%2fwww.googleapis.com%2fauth%2fpeopleapi.readonly\n",
            "\n",
            "Enter your authorization code:\n",
            "··········\n",
            "Mounted at /content/gdrive\n"
          ],
          "name": "stdout"
        }
      ]
    },
    {
      "cell_type": "code",
      "metadata": {
        "id": "rF4kvmWry1Ob",
        "colab_type": "code",
        "outputId": "9911fa8d-ca61-4ea9-ac13-501e814191ab",
        "colab": {
          "base_uri": "https://localhost:8080/",
          "height": 34
        }
      },
      "source": [
        "%cd /content/gdrive/My Drive/Assignment_7/"
      ],
      "execution_count": 2,
      "outputs": [
        {
          "output_type": "stream",
          "text": [
            "/content/gdrive/My Drive/Assignment_7\n"
          ],
          "name": "stdout"
        }
      ]
    },
    {
      "cell_type": "code",
      "metadata": {
        "id": "4iamAQUoAGKr",
        "colab_type": "code",
        "colab": {}
      },
      "source": [
        "%matplotlib inline\n",
        "import torch\n",
        "import torchvision\n",
        "import torchvision.transforms as transforms\n",
        "import matplotlib.pyplot as plt\n",
        "import numpy as np"
      ],
      "execution_count": 0,
      "outputs": []
    },
    {
      "cell_type": "code",
      "metadata": {
        "id": "BNRZvwejlHxw",
        "colab_type": "code",
        "outputId": "8a818f35-2f8e-45dc-d36a-c7194becc9bb",
        "colab": {
          "base_uri": "https://localhost:8080/",
          "height": 67
        }
      },
      "source": [
        "ls"
      ],
      "execution_count": 4,
      "outputs": [
        {
          "output_type": "stream",
          "text": [
            "cudas.py        individual_class_acc.py  packages.py   test_accuracy.py\n",
            "\u001b[0m\u001b[01;34mdata\u001b[0m/           model.py                 \u001b[01;34m__pycache__\u001b[0m/  test.py\n",
            "data_loader.py  orig_pred_images.py      summary.py    train.py\n"
          ],
          "name": "stdout"
        }
      ]
    },
    {
      "cell_type": "code",
      "metadata": {
        "id": "taa7lXhZAj2i",
        "colab_type": "code",
        "outputId": "923834e9-993e-4f4f-9436-51215492c71e",
        "colab": {
          "base_uri": "https://localhost:8080/",
          "height": 67
        }
      },
      "source": [
        "import data_loader\n",
        "\n",
        "trainloader = data_loader.trainloader\n",
        "testloader =  data_loader.testloader\n",
        "classes = ('plane', 'car', 'bird', 'cat', 'deer', 'dog', 'frog', 'horse', 'ship', 'truck')\n",
        "\n",
        "# get some random training images\n",
        "dataiter = iter(trainloader)\n",
        "images, labels = dataiter.next()"
      ],
      "execution_count": 5,
      "outputs": [
        {
          "output_type": "stream",
          "text": [
            "CUDA Available? True\n",
            "Files already downloaded and verified\n",
            "Files already downloaded and verified\n"
          ],
          "name": "stdout"
        }
      ]
    },
    {
      "cell_type": "code",
      "metadata": {
        "id": "YH7cT94YNekd",
        "colab_type": "code",
        "outputId": "ebcaf197-ad2a-4ff3-a04b-043354dc33e6",
        "colab": {
          "base_uri": "https://localhost:8080/",
          "height": 1000
        }
      },
      "source": [
        "import model\n",
        "from summary import model_summary\n",
        "\n",
        "use_cuda = torch.cuda.is_available()\n",
        "device = torch.device(\"cuda\" if use_cuda else \"cpu\")\n",
        "\n",
        "net = model.ResNet18().to(device)\n",
        "model_summary(net)"
      ],
      "execution_count": 6,
      "outputs": [
        {
          "output_type": "stream",
          "text": [
            "----------------------------------------------------------------\n",
            "        Layer (type)               Output Shape         Param #\n",
            "================================================================\n",
            "            Conv2d-1           [-1, 64, 32, 32]           1,728\n",
            "       BatchNorm2d-2           [-1, 64, 32, 32]             128\n",
            "            Conv2d-3           [-1, 64, 32, 32]          36,864\n",
            "       BatchNorm2d-4           [-1, 64, 32, 32]             128\n",
            "           Dropout-5           [-1, 64, 32, 32]               0\n",
            "            Conv2d-6           [-1, 64, 32, 32]          36,864\n",
            "       BatchNorm2d-7           [-1, 64, 32, 32]             128\n",
            "        BasicBlock-8           [-1, 64, 32, 32]               0\n",
            "            Conv2d-9           [-1, 64, 32, 32]          36,864\n",
            "      BatchNorm2d-10           [-1, 64, 32, 32]             128\n",
            "          Dropout-11           [-1, 64, 32, 32]               0\n",
            "           Conv2d-12           [-1, 64, 32, 32]          36,864\n",
            "      BatchNorm2d-13           [-1, 64, 32, 32]             128\n",
            "       BasicBlock-14           [-1, 64, 32, 32]               0\n",
            "           Conv2d-15          [-1, 128, 16, 16]          73,728\n",
            "      BatchNorm2d-16          [-1, 128, 16, 16]             256\n",
            "          Dropout-17          [-1, 128, 16, 16]               0\n",
            "           Conv2d-18          [-1, 128, 16, 16]         147,456\n",
            "      BatchNorm2d-19          [-1, 128, 16, 16]             256\n",
            "           Conv2d-20          [-1, 128, 16, 16]           8,192\n",
            "      BatchNorm2d-21          [-1, 128, 16, 16]             256\n",
            "       BasicBlock-22          [-1, 128, 16, 16]               0\n",
            "           Conv2d-23          [-1, 128, 16, 16]         147,456\n",
            "      BatchNorm2d-24          [-1, 128, 16, 16]             256\n",
            "          Dropout-25          [-1, 128, 16, 16]               0\n",
            "           Conv2d-26          [-1, 128, 16, 16]         147,456\n",
            "      BatchNorm2d-27          [-1, 128, 16, 16]             256\n",
            "       BasicBlock-28          [-1, 128, 16, 16]               0\n",
            "           Conv2d-29            [-1, 256, 8, 8]         294,912\n",
            "      BatchNorm2d-30            [-1, 256, 8, 8]             512\n",
            "          Dropout-31            [-1, 256, 8, 8]               0\n",
            "           Conv2d-32            [-1, 256, 8, 8]         589,824\n",
            "      BatchNorm2d-33            [-1, 256, 8, 8]             512\n",
            "           Conv2d-34            [-1, 256, 8, 8]          32,768\n",
            "      BatchNorm2d-35            [-1, 256, 8, 8]             512\n",
            "       BasicBlock-36            [-1, 256, 8, 8]               0\n",
            "           Conv2d-37            [-1, 256, 8, 8]         589,824\n",
            "      BatchNorm2d-38            [-1, 256, 8, 8]             512\n",
            "          Dropout-39            [-1, 256, 8, 8]               0\n",
            "           Conv2d-40            [-1, 256, 8, 8]         589,824\n",
            "      BatchNorm2d-41            [-1, 256, 8, 8]             512\n",
            "       BasicBlock-42            [-1, 256, 8, 8]               0\n",
            "           Conv2d-43            [-1, 512, 4, 4]       1,179,648\n",
            "      BatchNorm2d-44            [-1, 512, 4, 4]           1,024\n",
            "          Dropout-45            [-1, 512, 4, 4]               0\n",
            "           Conv2d-46            [-1, 512, 4, 4]       2,359,296\n",
            "      BatchNorm2d-47            [-1, 512, 4, 4]           1,024\n",
            "           Conv2d-48            [-1, 512, 4, 4]         131,072\n",
            "      BatchNorm2d-49            [-1, 512, 4, 4]           1,024\n",
            "       BasicBlock-50            [-1, 512, 4, 4]               0\n",
            "           Conv2d-51            [-1, 512, 4, 4]       2,359,296\n",
            "      BatchNorm2d-52            [-1, 512, 4, 4]           1,024\n",
            "          Dropout-53            [-1, 512, 4, 4]               0\n",
            "           Conv2d-54            [-1, 512, 4, 4]       2,359,296\n",
            "      BatchNorm2d-55            [-1, 512, 4, 4]           1,024\n",
            "       BasicBlock-56            [-1, 512, 4, 4]               0\n",
            "           Linear-57                   [-1, 10]           5,130\n",
            "================================================================\n",
            "Total params: 11,173,962\n",
            "Trainable params: 11,173,962\n",
            "Non-trainable params: 0\n",
            "----------------------------------------------------------------\n",
            "Input size (MB): 0.01\n",
            "Forward/backward pass size (MB): 13.13\n",
            "Params size (MB): 42.63\n",
            "Estimated Total Size (MB): 55.76\n",
            "----------------------------------------------------------------\n"
          ],
          "name": "stdout"
        }
      ]
    },
    {
      "cell_type": "code",
      "metadata": {
        "id": "EbzhAQOMk2sf",
        "colab_type": "code",
        "colab": {}
      },
      "source": [
        "import torch.optim as optim\n",
        "from torch.optim.lr_scheduler import StepLR\n",
        "import torch.nn as nn\n",
        "criterion = nn.CrossEntropyLoss()\n",
        "optimizer = optim.SGD(net.parameters(), lr=0.1, momentum=0.9, weight_decay=0.0001)\n",
        "scheduler = StepLR(optimizer, step_size=10, gamma=0.5)"
      ],
      "execution_count": 0,
      "outputs": []
    },
    {
      "cell_type": "code",
      "metadata": {
        "id": "XqVcCSE8MhTd",
        "colab_type": "code",
        "colab": {
          "base_uri": "https://localhost:8080/",
          "height": 1000
        },
        "outputId": "a904a87e-65b5-4759-cf56-41ac91102b07"
      },
      "source": [
        "import torch\n",
        "from tqdm import tqdm\n",
        "import train\n",
        "import test\n",
        "test_acc = []\n",
        "train_acc = []\n",
        "for epoch in range(30):  # loop over the dataset multiple times\n",
        "    if epoch>10:\n",
        "      scheduler.step()\n",
        "    for param_group in optimizer.param_groups:\n",
        "      print(\"lr= \",param_group['lr'])\n",
        "    train_acc.append(train.train(net, device, trainloader, optimizer, criterion, epoch))\n",
        "    test_acc.append(test.test(net, device, testloader))\n",
        "print('Finished Training')"
      ],
      "execution_count": 8,
      "outputs": [
        {
          "output_type": "stream",
          "text": [
            "\r  0%|          | 0/391 [00:00<?, ?it/s]"
          ],
          "name": "stderr"
        },
        {
          "output_type": "stream",
          "text": [
            "lr=  0.1\n"
          ],
          "name": "stdout"
        },
        {
          "output_type": "stream",
          "text": [
            "Epoch= 0 Loss=1.7256381511688232 Batch_id=390 Accuracy=43.75: 100%|██████████| 391/391 [01:11<00:00,  6.14it/s]\n",
            "100%|██████████| 79/79 [00:03<00:00, 22.81it/s]\n",
            "  0%|          | 0/391 [00:00<?, ?it/s]"
          ],
          "name": "stderr"
        },
        {
          "output_type": "stream",
          "text": [
            "Accuracy of the network on the 10000 test images: 40 %\n",
            "lr=  0.1\n"
          ],
          "name": "stdout"
        },
        {
          "output_type": "stream",
          "text": [
            "Epoch= 1 Loss=1.4908699989318848 Batch_id=390 Accuracy=50.00: 100%|██████████| 391/391 [01:13<00:00,  5.94it/s]\n",
            "100%|██████████| 79/79 [00:03<00:00, 24.16it/s]\n",
            "  0%|          | 0/391 [00:00<?, ?it/s]"
          ],
          "name": "stderr"
        },
        {
          "output_type": "stream",
          "text": [
            "Accuracy of the network on the 10000 test images: 52 %\n",
            "lr=  0.1\n"
          ],
          "name": "stdout"
        },
        {
          "output_type": "stream",
          "text": [
            "Epoch= 2 Loss=0.9845907092094421 Batch_id=390 Accuracy=67.50: 100%|██████████| 391/391 [01:14<00:00,  5.80it/s]\n",
            "100%|██████████| 79/79 [00:03<00:00, 24.26it/s]\n",
            "  0%|          | 0/391 [00:00<?, ?it/s]"
          ],
          "name": "stderr"
        },
        {
          "output_type": "stream",
          "text": [
            "Accuracy of the network on the 10000 test images: 62 %\n",
            "lr=  0.1\n"
          ],
          "name": "stdout"
        },
        {
          "output_type": "stream",
          "text": [
            "Epoch= 3 Loss=0.9418169856071472 Batch_id=390 Accuracy=73.75: 100%|██████████| 391/391 [01:14<00:00,  6.05it/s]\n",
            "100%|██████████| 79/79 [00:03<00:00, 24.02it/s]\n",
            "  0%|          | 0/391 [00:00<?, ?it/s]"
          ],
          "name": "stderr"
        },
        {
          "output_type": "stream",
          "text": [
            "Accuracy of the network on the 10000 test images: 68 %\n",
            "lr=  0.1\n"
          ],
          "name": "stdout"
        },
        {
          "output_type": "stream",
          "text": [
            "Epoch= 4 Loss=0.5505493879318237 Batch_id=390 Accuracy=82.50: 100%|██████████| 391/391 [01:14<00:00,  5.87it/s]\n",
            "100%|██████████| 79/79 [00:03<00:00, 24.25it/s]\n",
            "  0%|          | 0/391 [00:00<?, ?it/s]"
          ],
          "name": "stderr"
        },
        {
          "output_type": "stream",
          "text": [
            "Accuracy of the network on the 10000 test images: 73 %\n",
            "lr=  0.1\n"
          ],
          "name": "stdout"
        },
        {
          "output_type": "stream",
          "text": [
            "Epoch= 5 Loss=0.624208927154541 Batch_id=390 Accuracy=85.00: 100%|██████████| 391/391 [01:14<00:00,  5.94it/s]\n",
            "100%|██████████| 79/79 [00:03<00:00, 24.01it/s]\n",
            "  0%|          | 0/391 [00:00<?, ?it/s]"
          ],
          "name": "stderr"
        },
        {
          "output_type": "stream",
          "text": [
            "Accuracy of the network on the 10000 test images: 75 %\n",
            "lr=  0.1\n"
          ],
          "name": "stdout"
        },
        {
          "output_type": "stream",
          "text": [
            "Epoch= 6 Loss=0.6525126099586487 Batch_id=390 Accuracy=83.75: 100%|██████████| 391/391 [01:13<00:00,  5.78it/s]\n",
            "100%|██████████| 79/79 [00:03<00:00, 24.25it/s]\n",
            "  0%|          | 0/391 [00:00<?, ?it/s]"
          ],
          "name": "stderr"
        },
        {
          "output_type": "stream",
          "text": [
            "Accuracy of the network on the 10000 test images: 76 %\n",
            "lr=  0.1\n"
          ],
          "name": "stdout"
        },
        {
          "output_type": "stream",
          "text": [
            "Epoch= 7 Loss=0.6666386723518372 Batch_id=390 Accuracy=81.25: 100%|██████████| 391/391 [01:14<00:00,  5.88it/s]\n",
            "100%|██████████| 79/79 [00:03<00:00, 23.83it/s]\n",
            "  0%|          | 0/391 [00:00<?, ?it/s]"
          ],
          "name": "stderr"
        },
        {
          "output_type": "stream",
          "text": [
            "Accuracy of the network on the 10000 test images: 79 %\n",
            "lr=  0.1\n"
          ],
          "name": "stdout"
        },
        {
          "output_type": "stream",
          "text": [
            "Epoch= 8 Loss=0.4252062439918518 Batch_id=390 Accuracy=91.25: 100%|██████████| 391/391 [01:14<00:00,  5.99it/s]\n",
            "100%|██████████| 79/79 [00:03<00:00, 22.32it/s]\n",
            "  0%|          | 0/391 [00:00<?, ?it/s]"
          ],
          "name": "stderr"
        },
        {
          "output_type": "stream",
          "text": [
            "Accuracy of the network on the 10000 test images: 80 %\n",
            "lr=  0.1\n"
          ],
          "name": "stdout"
        },
        {
          "output_type": "stream",
          "text": [
            "Epoch= 9 Loss=0.5126327276229858 Batch_id=390 Accuracy=87.50: 100%|██████████| 391/391 [01:14<00:00,  5.97it/s]\n",
            "100%|██████████| 79/79 [00:03<00:00, 24.27it/s]\n",
            "  0%|          | 0/391 [00:00<?, ?it/s]"
          ],
          "name": "stderr"
        },
        {
          "output_type": "stream",
          "text": [
            "Accuracy of the network on the 10000 test images: 80 %\n",
            "lr=  0.1\n"
          ],
          "name": "stdout"
        },
        {
          "output_type": "stream",
          "text": [
            "Epoch= 10 Loss=0.4152504801750183 Batch_id=390 Accuracy=91.25: 100%|██████████| 391/391 [01:14<00:00,  5.91it/s]\n",
            "100%|██████████| 79/79 [00:03<00:00, 24.35it/s]\n",
            "  0%|          | 0/391 [00:00<?, ?it/s]"
          ],
          "name": "stderr"
        },
        {
          "output_type": "stream",
          "text": [
            "Accuracy of the network on the 10000 test images: 82 %\n",
            "lr=  0.1\n"
          ],
          "name": "stdout"
        },
        {
          "output_type": "stream",
          "text": [
            "Epoch= 11 Loss=0.3282296657562256 Batch_id=390 Accuracy=91.25: 100%|██████████| 391/391 [01:14<00:00,  5.90it/s]\n",
            "100%|██████████| 79/79 [00:03<00:00, 24.14it/s]\n",
            "  0%|          | 0/391 [00:00<?, ?it/s]"
          ],
          "name": "stderr"
        },
        {
          "output_type": "stream",
          "text": [
            "Accuracy of the network on the 10000 test images: 82 %\n",
            "lr=  0.1\n"
          ],
          "name": "stdout"
        },
        {
          "output_type": "stream",
          "text": [
            "Epoch= 12 Loss=0.31583836674690247 Batch_id=390 Accuracy=95.00: 100%|██████████| 391/391 [01:14<00:00,  5.93it/s]\n",
            "100%|██████████| 79/79 [00:03<00:00, 23.96it/s]\n",
            "  0%|          | 0/391 [00:00<?, ?it/s]"
          ],
          "name": "stderr"
        },
        {
          "output_type": "stream",
          "text": [
            "Accuracy of the network on the 10000 test images: 83 %\n",
            "lr=  0.1\n"
          ],
          "name": "stdout"
        },
        {
          "output_type": "stream",
          "text": [
            "Epoch= 13 Loss=0.40732789039611816 Batch_id=390 Accuracy=91.25: 100%|██████████| 391/391 [01:14<00:00,  5.85it/s]\n",
            "100%|██████████| 79/79 [00:03<00:00, 24.40it/s]\n",
            "  0%|          | 0/391 [00:00<?, ?it/s]"
          ],
          "name": "stderr"
        },
        {
          "output_type": "stream",
          "text": [
            "Accuracy of the network on the 10000 test images: 83 %\n",
            "lr=  0.1\n"
          ],
          "name": "stdout"
        },
        {
          "output_type": "stream",
          "text": [
            "Epoch= 14 Loss=0.15874220430850983 Batch_id=390 Accuracy=100.00: 100%|██████████| 391/391 [01:14<00:00,  5.95it/s]\n",
            "100%|██████████| 79/79 [00:03<00:00, 23.99it/s]\n",
            "  0%|          | 0/391 [00:00<?, ?it/s]"
          ],
          "name": "stderr"
        },
        {
          "output_type": "stream",
          "text": [
            "Accuracy of the network on the 10000 test images: 84 %\n",
            "lr=  0.1\n"
          ],
          "name": "stdout"
        },
        {
          "output_type": "stream",
          "text": [
            "Epoch= 15 Loss=0.2257262021303177 Batch_id=390 Accuracy=96.25: 100%|██████████| 391/391 [01:14<00:00,  5.95it/s]\n",
            "100%|██████████| 79/79 [00:03<00:00, 22.84it/s]\n",
            "  0%|          | 0/391 [00:00<?, ?it/s]"
          ],
          "name": "stderr"
        },
        {
          "output_type": "stream",
          "text": [
            "Accuracy of the network on the 10000 test images: 83 %\n",
            "lr=  0.1\n"
          ],
          "name": "stdout"
        },
        {
          "output_type": "stream",
          "text": [
            "Epoch= 16 Loss=0.12265115976333618 Batch_id=390 Accuracy=97.50: 100%|██████████| 391/391 [01:14<00:00,  5.85it/s]\n",
            "100%|██████████| 79/79 [00:03<00:00, 22.52it/s]\n",
            "  0%|          | 0/391 [00:00<?, ?it/s]"
          ],
          "name": "stderr"
        },
        {
          "output_type": "stream",
          "text": [
            "Accuracy of the network on the 10000 test images: 83 %\n",
            "lr=  0.1\n"
          ],
          "name": "stdout"
        },
        {
          "output_type": "stream",
          "text": [
            "Epoch= 17 Loss=0.24931983649730682 Batch_id=390 Accuracy=93.75: 100%|██████████| 391/391 [01:14<00:00,  5.89it/s]\n",
            "100%|██████████| 79/79 [00:03<00:00, 23.89it/s]\n",
            "  0%|          | 0/391 [00:00<?, ?it/s]"
          ],
          "name": "stderr"
        },
        {
          "output_type": "stream",
          "text": [
            "Accuracy of the network on the 10000 test images: 83 %\n",
            "lr=  0.1\n"
          ],
          "name": "stdout"
        },
        {
          "output_type": "stream",
          "text": [
            "Epoch= 18 Loss=0.25748032331466675 Batch_id=390 Accuracy=96.25: 100%|██████████| 391/391 [01:14<00:00,  5.91it/s]\n",
            "100%|██████████| 79/79 [00:03<00:00, 24.05it/s]\n",
            "  0%|          | 0/391 [00:00<?, ?it/s]"
          ],
          "name": "stderr"
        },
        {
          "output_type": "stream",
          "text": [
            "Accuracy of the network on the 10000 test images: 84 %\n",
            "lr=  0.1\n"
          ],
          "name": "stdout"
        },
        {
          "output_type": "stream",
          "text": [
            "Epoch= 19 Loss=0.13291782140731812 Batch_id=390 Accuracy=98.75: 100%|██████████| 391/391 [01:13<00:00,  6.05it/s]\n",
            "100%|██████████| 79/79 [00:03<00:00, 24.27it/s]\n",
            "  0%|          | 0/391 [00:00<?, ?it/s]"
          ],
          "name": "stderr"
        },
        {
          "output_type": "stream",
          "text": [
            "Accuracy of the network on the 10000 test images: 85 %\n",
            "lr=  0.05\n"
          ],
          "name": "stdout"
        },
        {
          "output_type": "stream",
          "text": [
            "Epoch= 20 Loss=0.1188335195183754 Batch_id=390 Accuracy=98.75: 100%|██████████| 391/391 [01:13<00:00,  6.08it/s]\n",
            "100%|██████████| 79/79 [00:03<00:00, 24.49it/s]\n",
            "  0%|          | 0/391 [00:00<?, ?it/s]"
          ],
          "name": "stderr"
        },
        {
          "output_type": "stream",
          "text": [
            "Accuracy of the network on the 10000 test images: 87 %\n",
            "lr=  0.05\n"
          ],
          "name": "stdout"
        },
        {
          "output_type": "stream",
          "text": [
            "Epoch= 21 Loss=0.0444708876311779 Batch_id=390 Accuracy=98.75: 100%|██████████| 391/391 [01:13<00:00,  5.95it/s]\n",
            "100%|██████████| 79/79 [00:03<00:00, 24.36it/s]\n",
            "  0%|          | 0/391 [00:00<?, ?it/s]"
          ],
          "name": "stderr"
        },
        {
          "output_type": "stream",
          "text": [
            "Accuracy of the network on the 10000 test images: 87 %\n",
            "lr=  0.05\n"
          ],
          "name": "stdout"
        },
        {
          "output_type": "stream",
          "text": [
            "Epoch= 22 Loss=0.009432882070541382 Batch_id=390 Accuracy=100.00: 100%|██████████| 391/391 [01:13<00:00,  6.03it/s]\n",
            "100%|██████████| 79/79 [00:03<00:00, 24.34it/s]\n",
            "  0%|          | 0/391 [00:00<?, ?it/s]"
          ],
          "name": "stderr"
        },
        {
          "output_type": "stream",
          "text": [
            "Accuracy of the network on the 10000 test images: 87 %\n",
            "lr=  0.05\n"
          ],
          "name": "stdout"
        },
        {
          "output_type": "stream",
          "text": [
            "Epoch= 23 Loss=0.04748592525720596 Batch_id=390 Accuracy=100.00: 100%|██████████| 391/391 [01:12<00:00,  6.08it/s]\n",
            "100%|██████████| 79/79 [00:03<00:00, 24.02it/s]\n",
            "  0%|          | 0/391 [00:00<?, ?it/s]"
          ],
          "name": "stderr"
        },
        {
          "output_type": "stream",
          "text": [
            "Accuracy of the network on the 10000 test images: 87 %\n",
            "lr=  0.05\n"
          ],
          "name": "stdout"
        },
        {
          "output_type": "stream",
          "text": [
            "Epoch= 24 Loss=0.006794142536818981 Batch_id=390 Accuracy=100.00: 100%|██████████| 391/391 [01:12<00:00,  6.06it/s]\n",
            "100%|██████████| 79/79 [00:03<00:00, 24.24it/s]\n",
            "  0%|          | 0/391 [00:00<?, ?it/s]"
          ],
          "name": "stderr"
        },
        {
          "output_type": "stream",
          "text": [
            "Accuracy of the network on the 10000 test images: 86 %\n",
            "lr=  0.05\n"
          ],
          "name": "stdout"
        },
        {
          "output_type": "stream",
          "text": [
            "Epoch= 25 Loss=0.0036327361594885588 Batch_id=390 Accuracy=100.00: 100%|██████████| 391/391 [01:13<00:00,  6.11it/s]\n",
            "100%|██████████| 79/79 [00:03<00:00, 22.85it/s]\n",
            "  0%|          | 0/391 [00:00<?, ?it/s]"
          ],
          "name": "stderr"
        },
        {
          "output_type": "stream",
          "text": [
            "Accuracy of the network on the 10000 test images: 86 %\n",
            "lr=  0.05\n"
          ],
          "name": "stdout"
        },
        {
          "output_type": "stream",
          "text": [
            "Epoch= 26 Loss=0.010032827034592628 Batch_id=390 Accuracy=97.50: 100%|██████████| 391/391 [01:13<00:00,  6.03it/s]\n",
            "100%|██████████| 79/79 [00:03<00:00, 24.51it/s]\n",
            "  0%|          | 0/391 [00:00<?, ?it/s]"
          ],
          "name": "stderr"
        },
        {
          "output_type": "stream",
          "text": [
            "Accuracy of the network on the 10000 test images: 86 %\n",
            "lr=  0.05\n"
          ],
          "name": "stdout"
        },
        {
          "output_type": "stream",
          "text": [
            "Epoch= 27 Loss=0.020376693457365036 Batch_id=390 Accuracy=100.00: 100%|██████████| 391/391 [01:12<00:00,  5.95it/s]\n",
            "100%|██████████| 79/79 [00:03<00:00, 24.63it/s]\n",
            "  0%|          | 0/391 [00:00<?, ?it/s]"
          ],
          "name": "stderr"
        },
        {
          "output_type": "stream",
          "text": [
            "Accuracy of the network on the 10000 test images: 86 %\n",
            "lr=  0.05\n"
          ],
          "name": "stdout"
        },
        {
          "output_type": "stream",
          "text": [
            "Epoch= 28 Loss=0.035763923078775406 Batch_id=390 Accuracy=98.75: 100%|██████████| 391/391 [01:13<00:00,  6.09it/s]\n",
            "100%|██████████| 79/79 [00:03<00:00, 24.29it/s]\n",
            "  0%|          | 0/391 [00:00<?, ?it/s]"
          ],
          "name": "stderr"
        },
        {
          "output_type": "stream",
          "text": [
            "Accuracy of the network on the 10000 test images: 86 %\n",
            "lr=  0.05\n"
          ],
          "name": "stdout"
        },
        {
          "output_type": "stream",
          "text": [
            "Epoch= 29 Loss=0.02115141786634922 Batch_id=390 Accuracy=98.75: 100%|██████████| 391/391 [01:12<00:00,  6.02it/s]\n",
            "100%|██████████| 79/79 [00:03<00:00, 24.43it/s]"
          ],
          "name": "stderr"
        },
        {
          "output_type": "stream",
          "text": [
            "Accuracy of the network on the 10000 test images: 86 %\n",
            "Finished Training\n"
          ],
          "name": "stdout"
        },
        {
          "output_type": "stream",
          "text": [
            "\n"
          ],
          "name": "stderr"
        }
      ]
    },
    {
      "cell_type": "code",
      "metadata": {
        "id": "lbgWM0FBM1Yd",
        "colab_type": "code",
        "colab": {
          "base_uri": "https://localhost:8080/",
          "height": 312
        },
        "outputId": "854c63d6-6c0b-46bc-c278-73ffb5408105"
      },
      "source": [
        "import matplotlib.pyplot as plt\n",
        "\n",
        "fig, axs = plt.subplots(2)\n",
        "axs[0].plot(train_acc)\n",
        "axs[0].set_title(\"Training Accuracy\")\n",
        "axs[0].set_xlabel(\"Batch\")\n",
        "axs[0].set_ylabel(\"Accuracy\")\n",
        "axs[1].plot(test_acc)\n",
        "axs[1].set_title(\"Test Accuracy\")\n",
        "axs[1].set_xlabel(\"Batch\")\n",
        "axs[1].set_ylabel(\"Accuracy\")"
      ],
      "execution_count": 9,
      "outputs": [
        {
          "output_type": "execute_result",
          "data": {
            "text/plain": [
              "Text(0, 0.5, 'Accuracy')"
            ]
          },
          "metadata": {
            "tags": []
          },
          "execution_count": 9
        },
        {
          "output_type": "display_data",
          "data": {
            "image/png": "[encoded data removed]",
            "text/plain": [
              "<Figure size 432x288 with 2 Axes>"
            ]
          },
          "metadata": {
            "tags": []
          }
        }
      ]
    },
    {
      "cell_type": "code",
      "metadata": {
        "id": "JTENgPrrX2FI",
        "colab_type": "code",
        "colab": {
          "base_uri": "https://localhost:8080/",
          "height": 202
        },
        "outputId": "67eaa5ad-52cc-4474-a29a-be0d96c05720"
      },
      "source": [
        "test.test_categorywise(net, device, testloader, classes)"
      ],
      "execution_count": 15,
      "outputs": [
        {
          "output_type": "stream",
          "text": [
            "100%|██████████| 79/79 [00:03<00:00, 25.49it/s]"
          ],
          "name": "stderr"
        },
        {
          "output_type": "stream",
          "text": [
            "Accuracy of plane : 84 %\n",
            "Accuracy of   car : 83 %\n",
            "Accuracy of  bird : 86 %\n",
            "Accuracy of   cat : 68 %\n",
            "Accuracy of  deer : 76 %\n",
            "Accuracy of   dog : 69 %\n",
            "Accuracy of  frog : 92 %\n",
            "Accuracy of horse : 86 %\n",
            "Accuracy of  ship : 93 %\n",
            "Accuracy of truck : 93 %\n"
          ],
          "name": "stdout"
        },
        {
          "output_type": "stream",
          "text": [
            "\n"
          ],
          "name": "stderr"
        }
      ]
    },
    {
      "cell_type": "code",
      "metadata": {
        "id": "LrKl71g7X5LF",
        "colab_type": "code",
        "colab": {}
      },
      "source": [
        ""
      ],
      "execution_count": 0,
      "outputs": []
    }
  ]
}